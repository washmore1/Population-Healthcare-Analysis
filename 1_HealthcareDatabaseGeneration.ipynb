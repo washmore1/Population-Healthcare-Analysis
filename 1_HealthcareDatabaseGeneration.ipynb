{
  "nbformat": 4,
  "nbformat_minor": 0,
  "metadata": {
    "colab": {
      "provenance": [],
      "authorship_tag": "ABX9TyNML5hJaubcT+IYum61flno",
      "include_colab_link": true
    },
    "kernelspec": {
      "name": "python3",
      "display_name": "Python 3"
    },
    "language_info": {
      "name": "python"
    }
  },
  "cells": [
    {
      "cell_type": "markdown",
      "metadata": {
        "id": "view-in-github",
        "colab_type": "text"
      },
      "source": [
        "<a href=\"https://colab.research.google.com/github/washmore1/PopulationHealthcareAnalytics/blob/main/HealthcareDatabaseGeneration.ipynb\" target=\"_parent\"><img src=\"https://colab.research.google.com/assets/colab-badge.svg\" alt=\"Open In Colab\"/></a>"
      ]
    },
    {
      "cell_type": "markdown",
      "source": [
        "##**Generating Fake, Raw Data to Simulate Healthcare Data Sources**\n",
        "\n",
        "This code builds a realistic, large-scale raw healthcare dataset that relates particularly to diabetic patients. This program produces 6 tables:\n",
        "\n",
        "**1.   Patient Demographics Table**\n",
        "\n",
        "  *   Patient ID\n",
        "  *   Age\n",
        "  *   Sex\n",
        "  *   County\n",
        "  *   Insurance Type\n",
        "\n",
        "**2.   Clinical Diagnoses Table**\n",
        "\n",
        "  *   Patient ID\n",
        "  *   Diagnosis code\n",
        "  *   Diagnosis date\n",
        "\n",
        "**3.   Lab Results Table**\n",
        "\n",
        "  *   Patient ID\n",
        "  *   Lab type\n",
        "  *   Lab result value\n",
        "  *   Date\n",
        "\n",
        "**4.   Medication Table**\n",
        "\n",
        "  *   Patient ID\n",
        "  *   Medication name\n",
        "  *   Prescription start date\n",
        "  *   Prescription end date\n",
        "\n",
        "**5.   Visits Table**\n",
        "\n",
        "  *   Patient ID\n",
        "  *   Visit date\n",
        "  *   Visit type\n",
        "  *   Outcome\n",
        "\n",
        "**6.   Care Management Table**\n",
        "\n",
        "  *   Patient ID\n",
        "  *   Care management type\n",
        "  *   Start date\n",
        "  *   Completion status\n",
        "\n",
        "  In terms of volume, this generated database contains 10,000 unique patients (each with multiple entries in diagnosis, labs, medications, and visits) that are distributed across 50 unique, made-up counties.\n"
      ],
      "metadata": {
        "id": "QJdfSwOEHYcU"
      }
    },
    {
      "cell_type": "code",
      "source": [
        "# Library installation and importation\n",
        "!pip install pandas faker numpy scikit-learn\n",
        "\n",
        "import numpy as np\n",
        "import pandas as pd\n",
        "from faker import Faker\n",
        "import random\n",
        "from datetime import timedelta, datetime"
      ],
      "metadata": {
        "colab": {
          "base_uri": "https://localhost:8080/"
        },
        "collapsed": true,
        "id": "5OVKnlEQHM8m",
        "outputId": "3a45c565-3ab2-47a5-f889-b6961cd83758"
      },
      "execution_count": 17,
      "outputs": [
        {
          "output_type": "stream",
          "name": "stdout",
          "text": [
            "Requirement already satisfied: pandas in /usr/local/lib/python3.11/dist-packages (2.2.2)\n",
            "Requirement already satisfied: faker in /usr/local/lib/python3.11/dist-packages (37.3.0)\n",
            "Requirement already satisfied: numpy in /usr/local/lib/python3.11/dist-packages (2.0.2)\n",
            "Requirement already satisfied: scikit-learn in /usr/local/lib/python3.11/dist-packages (1.6.1)\n",
            "Requirement already satisfied: python-dateutil>=2.8.2 in /usr/local/lib/python3.11/dist-packages (from pandas) (2.9.0.post0)\n",
            "Requirement already satisfied: pytz>=2020.1 in /usr/local/lib/python3.11/dist-packages (from pandas) (2025.2)\n",
            "Requirement already satisfied: tzdata>=2022.7 in /usr/local/lib/python3.11/dist-packages (from pandas) (2025.2)\n",
            "Requirement already satisfied: scipy>=1.6.0 in /usr/local/lib/python3.11/dist-packages (from scikit-learn) (1.15.3)\n",
            "Requirement already satisfied: joblib>=1.2.0 in /usr/local/lib/python3.11/dist-packages (from scikit-learn) (1.5.0)\n",
            "Requirement already satisfied: threadpoolctl>=3.1.0 in /usr/local/lib/python3.11/dist-packages (from scikit-learn) (3.6.0)\n",
            "Requirement already satisfied: six>=1.5 in /usr/local/lib/python3.11/dist-packages (from python-dateutil>=2.8.2->pandas) (1.17.0)\n"
          ]
        }
      ]
    },
    {
      "cell_type": "code",
      "source": [
        "# Set up Faker and Randomness for Reproducibility\n",
        "fake = Faker()\n",
        "np.random.seed(42)\n",
        "random.seed(42)"
      ],
      "metadata": {
        "id": "-MGsA8PqHf8g"
      },
      "execution_count": 18,
      "outputs": []
    },
    {
      "cell_type": "code",
      "source": [
        "# Constants and Setup\n",
        "NUM_PATIENTS = 10000  # I want 10,000 patients in my generated database\n",
        "NUM_COUNTIES = 50 # I want 50 counties in my generated database\n",
        "START_DATE = datetime(2022, 1, 1)\n",
        "END_DATE = datetime(2025, 1, 1)\n",
        "\n",
        "# Generate 50 fake and unique county names\n",
        "COUNTIES = set()\n",
        "while len(COUNTIES) < NUM_COUNTIES:\n",
        "  city = fake.city()\n",
        "  county_name = f\"{city}\"\n",
        "  COUNTIES.add(county_name)\n",
        "COUNTIES = list(COUNTIES)\n",
        "\n",
        "INSURANCE_TYPES = ['Medicare', 'Medicaid', 'Private', 'Uninsured']\n",
        "SEXES = ['Male', 'Female']\n",
        "\n",
        "# Generate Patient ID Primary Key\n",
        "patient_ids = [f\"P{str(i).zfill(6)}\" for i in range(1, NUM_PATIENTS + 1)]"
      ],
      "metadata": {
        "id": "lBgOjyYdH9Rx"
      },
      "execution_count": 19,
      "outputs": []
    },
    {
      "cell_type": "markdown",
      "source": [
        "**Patient Demographics Table (df_demo)**"
      ],
      "metadata": {
        "id": "foxiS6dpJfUQ"
      }
    },
    {
      "cell_type": "code",
      "source": [
        "demo_data = {\n",
        "    'Patient_ID': patient_ids,\n",
        "    'Age': np.random.randint(18, 90, NUM_PATIENTS),  # Ages 18 to 89\n",
        "    'Sex': np.random.choice(SEXES, NUM_PATIENTS),\n",
        "    'County': np.random.choice(COUNTIES, NUM_PATIENTS),\n",
        "    'Insurance_Type': np.random.choice(INSURANCE_TYPES, NUM_PATIENTS, p=[0.3, 0.2, 0.4, 0.1])\n",
        "}\n",
        "df_demo = pd.DataFrame(demo_data)"
      ],
      "metadata": {
        "id": "Qy8EDhqOJd2e"
      },
      "execution_count": 20,
      "outputs": []
    },
    {
      "cell_type": "markdown",
      "source": [
        "**Clinical Diagnoses Table (df_diag)**"
      ],
      "metadata": {
        "id": "e9mPb-V6Jr6-"
      }
    },
    {
      "cell_type": "code",
      "source": [
        "# Focus on Type 2 Diabetes and common complications\n",
        "diagnosis_codes = ['E11', 'E11.2', 'E11.9']\n",
        "diag_records = []\n",
        "\n",
        "for pid in patient_ids:\n",
        "    # Each patient has a primary diabetes diagnosis\n",
        "    diag_date = fake.date_between(start_date=START_DATE, end_date=END_DATE)\n",
        "    diag_records.append((pid, 'E11', diag_date))\n",
        "\n",
        "    # 30% of patients also have a complication\n",
        "    if random.random() < 0.3:\n",
        "        comp_date = diag_date + timedelta(days=random.randint(30, 365))\n",
        "        diag_records.append((pid, random.choice(['E11.2', 'E11.9']), comp_date))\n",
        "\n",
        "df_diag = pd.DataFrame(diag_records, columns=['Patient_ID', 'Diagnosis_Code', 'Diagnosis_Date'])"
      ],
      "metadata": {
        "id": "W88nXwl0J0YK"
      },
      "execution_count": 21,
      "outputs": []
    },
    {
      "cell_type": "markdown",
      "source": [
        "**Lab Results Table (df_labs)**"
      ],
      "metadata": {
        "id": "ttJhJ_HgJz2R"
      }
    },
    {
      "cell_type": "code",
      "source": [
        "lab_types = ['HbA1c', 'LDL Cholesterol', 'Creatinine']\n",
        "lab_records = []\n",
        "\n",
        "for pid in patient_ids:\n",
        "    num_labs = random.randint(2, 6)  # Each patient gets 2-6 lab tests\n",
        "    for _ in range(num_labs):\n",
        "        lab_date = fake.date_between(start_date=START_DATE, end_date=END_DATE)\n",
        "        lab_type = random.choice(lab_types)\n",
        "\n",
        "        # Generate realistic lab values\n",
        "        if lab_type == 'HbA1c':\n",
        "            lab_val = round(np.random.normal(7.0, 1.5), 2)\n",
        "            lab_val = max(4.5, min(lab_val, 14.0))\n",
        "        elif lab_type == 'LDL Cholesterol':\n",
        "            lab_val = round(np.random.normal(110, 40), 1)\n",
        "            lab_val = max(30, min(lab_val, 250))\n",
        "        else:  # Creatinine\n",
        "            lab_val = round(np.random.normal(1.1, 0.4), 2)\n",
        "            lab_val = max(0.3, min(lab_val, 3.5))\n",
        "\n",
        "        lab_records.append((pid, lab_type, lab_val, lab_date))\n",
        "\n",
        "df_labs = pd.DataFrame(lab_records, columns=['Patient_ID', 'Lab_Type', 'Lab_Value', 'Lab_Date'])"
      ],
      "metadata": {
        "id": "T6uW6asUKVLX"
      },
      "execution_count": 22,
      "outputs": []
    },
    {
      "cell_type": "markdown",
      "source": [
        "**Medications Table (df_meds)**"
      ],
      "metadata": {
        "id": "pChr7rCCKcBE"
      }
    },
    {
      "cell_type": "code",
      "source": [
        "medications = ['Metformin', 'Insulin', 'Glipizide', 'Sitagliptin']\n",
        "med_records = []\n",
        "\n",
        "for pid in patient_ids:\n",
        "    num_meds = random.randint(1, 3)  # Each patient has 1–3 prescriptions\n",
        "    start_base = fake.date_between(start_date=START_DATE, end_date=END_DATE - timedelta(days=365))\n",
        "\n",
        "    for _ in range(num_meds):\n",
        "        med = random.choice(medications)\n",
        "        start_offset = timedelta(days=random.randint(0, 300))\n",
        "        end_offset = start_offset + timedelta(days=random.randint(30, 365))\n",
        "\n",
        "        start_date = start_base + start_offset\n",
        "        end_date = start_base + end_offset\n",
        "\n",
        "        med_records.append((pid, med, start_date, end_date))\n",
        "\n",
        "df_meds = pd.DataFrame(med_records, columns=['Patient_ID', 'Medication', 'Start_Date', 'End_Date'])"
      ],
      "metadata": {
        "id": "ihxri88EKaIP"
      },
      "execution_count": 23,
      "outputs": []
    },
    {
      "cell_type": "markdown",
      "source": [
        "**Visits Table (df_visits)**"
      ],
      "metadata": {
        "id": "UgaBz5k2Kiac"
      }
    },
    {
      "cell_type": "code",
      "source": [
        "visit_types = ['Primary Care', 'Endocrinology', 'Emergency', 'Nutrition Counseling']\n",
        "visit_records = []\n",
        "\n",
        "for pid in patient_ids:\n",
        "    num_visits = random.randint(3, 10)  # Each patient has 3–10 visits\n",
        "    for _ in range(num_visits):\n",
        "        visit_date = fake.date_between(start_date=START_DATE, end_date=END_DATE)\n",
        "        visit_type = random.choice(visit_types)\n",
        "        outcome = random.choice(['Hospitalized', 'Follow-up Scheduled', 'No Issues'])\n",
        "\n",
        "        visit_records.append((pid, visit_date, visit_type, outcome))\n",
        "\n",
        "df_visits = pd.DataFrame(visit_records, columns=['Patient_ID', 'Visit_Date', 'Visit_Type', 'Outcome'])"
      ],
      "metadata": {
        "id": "vGr01SW-KlWg"
      },
      "execution_count": 24,
      "outputs": []
    },
    {
      "cell_type": "markdown",
      "source": [
        "**Care Management Table (df_care)**"
      ],
      "metadata": {
        "id": "z4pMCYedKnlt"
      }
    },
    {
      "cell_type": "code",
      "source": [
        "care_types = ['Diabetes Education', 'Nutrition Plan', 'Medication Adherence', 'Case Management']\n",
        "care_records = []\n",
        "\n",
        "for pid in patient_ids:\n",
        "    # Only 40% of patients receive care management\n",
        "    if random.random() < 0.4:\n",
        "        care_type = random.choice(care_types)\n",
        "        start_date = fake.date_between(start_date=START_DATE, end_date=END_DATE)\n",
        "        completion = random.choice(['Completed', 'In Progress', 'Not Started'])\n",
        "\n",
        "        care_records.append((pid, care_type, start_date, completion))\n",
        "\n",
        "df_care = pd.DataFrame(care_records, columns=['Patient_ID', 'Care_Type', 'Start_Date', 'Completion_Status'])"
      ],
      "metadata": {
        "id": "B9e6mitkKsP5"
      },
      "execution_count": 25,
      "outputs": []
    },
    {
      "cell_type": "markdown",
      "source": [
        "**View Shapes to Ensure Success**"
      ],
      "metadata": {
        "id": "G60XhXJrKyO8"
      }
    },
    {
      "cell_type": "code",
      "source": [
        "print(f\"Demo shape: {df_demo.shape}\")\n",
        "print(f\"Diagnosis shape: {df_diag.shape}\")\n",
        "print(f\"Labs shape: {df_labs.shape}\")\n",
        "print(f\"Medications shape: {df_meds.shape}\")\n",
        "print(f\"Visits shape: {df_visits.shape}\")\n",
        "print(f\"Care Management shape: {df_care.shape}\")\n",
        "\n",
        "# Preview a table\n",
        "df_demo.head()"
      ],
      "metadata": {
        "colab": {
          "base_uri": "https://localhost:8080/",
          "height": 313
        },
        "id": "t_OrnRILK50n",
        "outputId": "036f2415-42ac-488a-ef17-748fa39d1864"
      },
      "execution_count": 26,
      "outputs": [
        {
          "output_type": "stream",
          "name": "stdout",
          "text": [
            "Demo shape: (10000, 5)\n",
            "Diagnosis shape: (12988, 3)\n",
            "Labs shape: (40347, 4)\n",
            "Medications shape: (19867, 4)\n",
            "Visits shape: (64406, 4)\n",
            "Care Management shape: (4025, 4)\n"
          ]
        },
        {
          "output_type": "execute_result",
          "data": {
            "text/plain": [
              "  Patient_ID  Age     Sex            County Insurance_Type\n",
              "0    P000001   69    Male    West Jamesview       Medicare\n",
              "1    P000002   32    Male         New Jason       Medicare\n",
              "2    P000003   89  Female       South Janet        Private\n",
              "3    P000004   78    Male       Sophiahaven       Medicare\n",
              "4    P000005   38  Female  New Nicholastown       Medicare"
            ],
            "text/html": [
              "\n",
              "  <div id=\"df-6270e141-3958-4abd-8735-0e877295a8fd\" class=\"colab-df-container\">\n",
              "    <div>\n",
              "<style scoped>\n",
              "    .dataframe tbody tr th:only-of-type {\n",
              "        vertical-align: middle;\n",
              "    }\n",
              "\n",
              "    .dataframe tbody tr th {\n",
              "        vertical-align: top;\n",
              "    }\n",
              "\n",
              "    .dataframe thead th {\n",
              "        text-align: right;\n",
              "    }\n",
              "</style>\n",
              "<table border=\"1\" class=\"dataframe\">\n",
              "  <thead>\n",
              "    <tr style=\"text-align: right;\">\n",
              "      <th></th>\n",
              "      <th>Patient_ID</th>\n",
              "      <th>Age</th>\n",
              "      <th>Sex</th>\n",
              "      <th>County</th>\n",
              "      <th>Insurance_Type</th>\n",
              "    </tr>\n",
              "  </thead>\n",
              "  <tbody>\n",
              "    <tr>\n",
              "      <th>0</th>\n",
              "      <td>P000001</td>\n",
              "      <td>69</td>\n",
              "      <td>Male</td>\n",
              "      <td>West Jamesview</td>\n",
              "      <td>Medicare</td>\n",
              "    </tr>\n",
              "    <tr>\n",
              "      <th>1</th>\n",
              "      <td>P000002</td>\n",
              "      <td>32</td>\n",
              "      <td>Male</td>\n",
              "      <td>New Jason</td>\n",
              "      <td>Medicare</td>\n",
              "    </tr>\n",
              "    <tr>\n",
              "      <th>2</th>\n",
              "      <td>P000003</td>\n",
              "      <td>89</td>\n",
              "      <td>Female</td>\n",
              "      <td>South Janet</td>\n",
              "      <td>Private</td>\n",
              "    </tr>\n",
              "    <tr>\n",
              "      <th>3</th>\n",
              "      <td>P000004</td>\n",
              "      <td>78</td>\n",
              "      <td>Male</td>\n",
              "      <td>Sophiahaven</td>\n",
              "      <td>Medicare</td>\n",
              "    </tr>\n",
              "    <tr>\n",
              "      <th>4</th>\n",
              "      <td>P000005</td>\n",
              "      <td>38</td>\n",
              "      <td>Female</td>\n",
              "      <td>New Nicholastown</td>\n",
              "      <td>Medicare</td>\n",
              "    </tr>\n",
              "  </tbody>\n",
              "</table>\n",
              "</div>\n",
              "    <div class=\"colab-df-buttons\">\n",
              "\n",
              "  <div class=\"colab-df-container\">\n",
              "    <button class=\"colab-df-convert\" onclick=\"convertToInteractive('df-6270e141-3958-4abd-8735-0e877295a8fd')\"\n",
              "            title=\"Convert this dataframe to an interactive table.\"\n",
              "            style=\"display:none;\">\n",
              "\n",
              "  <svg xmlns=\"http://www.w3.org/2000/svg\" height=\"24px\" viewBox=\"0 -960 960 960\">\n",
              "    <path d=\"M120-120v-720h720v720H120Zm60-500h600v-160H180v160Zm220 220h160v-160H400v160Zm0 220h160v-160H400v160ZM180-400h160v-160H180v160Zm440 0h160v-160H620v160ZM180-180h160v-160H180v160Zm440 0h160v-160H620v160Z\"/>\n",
              "  </svg>\n",
              "    </button>\n",
              "\n",
              "  <style>\n",
              "    .colab-df-container {\n",
              "      display:flex;\n",
              "      gap: 12px;\n",
              "    }\n",
              "\n",
              "    .colab-df-convert {\n",
              "      background-color: #E8F0FE;\n",
              "      border: none;\n",
              "      border-radius: 50%;\n",
              "      cursor: pointer;\n",
              "      display: none;\n",
              "      fill: #1967D2;\n",
              "      height: 32px;\n",
              "      padding: 0 0 0 0;\n",
              "      width: 32px;\n",
              "    }\n",
              "\n",
              "    .colab-df-convert:hover {\n",
              "      background-color: #E2EBFA;\n",
              "      box-shadow: 0px 1px 2px rgba(60, 64, 67, 0.3), 0px 1px 3px 1px rgba(60, 64, 67, 0.15);\n",
              "      fill: #174EA6;\n",
              "    }\n",
              "\n",
              "    .colab-df-buttons div {\n",
              "      margin-bottom: 4px;\n",
              "    }\n",
              "\n",
              "    [theme=dark] .colab-df-convert {\n",
              "      background-color: #3B4455;\n",
              "      fill: #D2E3FC;\n",
              "    }\n",
              "\n",
              "    [theme=dark] .colab-df-convert:hover {\n",
              "      background-color: #434B5C;\n",
              "      box-shadow: 0px 1px 3px 1px rgba(0, 0, 0, 0.15);\n",
              "      filter: drop-shadow(0px 1px 2px rgba(0, 0, 0, 0.3));\n",
              "      fill: #FFFFFF;\n",
              "    }\n",
              "  </style>\n",
              "\n",
              "    <script>\n",
              "      const buttonEl =\n",
              "        document.querySelector('#df-6270e141-3958-4abd-8735-0e877295a8fd button.colab-df-convert');\n",
              "      buttonEl.style.display =\n",
              "        google.colab.kernel.accessAllowed ? 'block' : 'none';\n",
              "\n",
              "      async function convertToInteractive(key) {\n",
              "        const element = document.querySelector('#df-6270e141-3958-4abd-8735-0e877295a8fd');\n",
              "        const dataTable =\n",
              "          await google.colab.kernel.invokeFunction('convertToInteractive',\n",
              "                                                    [key], {});\n",
              "        if (!dataTable) return;\n",
              "\n",
              "        const docLinkHtml = 'Like what you see? Visit the ' +\n",
              "          '<a target=\"_blank\" href=https://colab.research.google.com/notebooks/data_table.ipynb>data table notebook</a>'\n",
              "          + ' to learn more about interactive tables.';\n",
              "        element.innerHTML = '';\n",
              "        dataTable['output_type'] = 'display_data';\n",
              "        await google.colab.output.renderOutput(dataTable, element);\n",
              "        const docLink = document.createElement('div');\n",
              "        docLink.innerHTML = docLinkHtml;\n",
              "        element.appendChild(docLink);\n",
              "      }\n",
              "    </script>\n",
              "  </div>\n",
              "\n",
              "\n",
              "    <div id=\"df-1e5a5620-0176-4db8-811f-648b33da29d6\">\n",
              "      <button class=\"colab-df-quickchart\" onclick=\"quickchart('df-1e5a5620-0176-4db8-811f-648b33da29d6')\"\n",
              "                title=\"Suggest charts\"\n",
              "                style=\"display:none;\">\n",
              "\n",
              "<svg xmlns=\"http://www.w3.org/2000/svg\" height=\"24px\"viewBox=\"0 0 24 24\"\n",
              "     width=\"24px\">\n",
              "    <g>\n",
              "        <path d=\"M19 3H5c-1.1 0-2 .9-2 2v14c0 1.1.9 2 2 2h14c1.1 0 2-.9 2-2V5c0-1.1-.9-2-2-2zM9 17H7v-7h2v7zm4 0h-2V7h2v10zm4 0h-2v-4h2v4z\"/>\n",
              "    </g>\n",
              "</svg>\n",
              "      </button>\n",
              "\n",
              "<style>\n",
              "  .colab-df-quickchart {\n",
              "      --bg-color: #E8F0FE;\n",
              "      --fill-color: #1967D2;\n",
              "      --hover-bg-color: #E2EBFA;\n",
              "      --hover-fill-color: #174EA6;\n",
              "      --disabled-fill-color: #AAA;\n",
              "      --disabled-bg-color: #DDD;\n",
              "  }\n",
              "\n",
              "  [theme=dark] .colab-df-quickchart {\n",
              "      --bg-color: #3B4455;\n",
              "      --fill-color: #D2E3FC;\n",
              "      --hover-bg-color: #434B5C;\n",
              "      --hover-fill-color: #FFFFFF;\n",
              "      --disabled-bg-color: #3B4455;\n",
              "      --disabled-fill-color: #666;\n",
              "  }\n",
              "\n",
              "  .colab-df-quickchart {\n",
              "    background-color: var(--bg-color);\n",
              "    border: none;\n",
              "    border-radius: 50%;\n",
              "    cursor: pointer;\n",
              "    display: none;\n",
              "    fill: var(--fill-color);\n",
              "    height: 32px;\n",
              "    padding: 0;\n",
              "    width: 32px;\n",
              "  }\n",
              "\n",
              "  .colab-df-quickchart:hover {\n",
              "    background-color: var(--hover-bg-color);\n",
              "    box-shadow: 0 1px 2px rgba(60, 64, 67, 0.3), 0 1px 3px 1px rgba(60, 64, 67, 0.15);\n",
              "    fill: var(--button-hover-fill-color);\n",
              "  }\n",
              "\n",
              "  .colab-df-quickchart-complete:disabled,\n",
              "  .colab-df-quickchart-complete:disabled:hover {\n",
              "    background-color: var(--disabled-bg-color);\n",
              "    fill: var(--disabled-fill-color);\n",
              "    box-shadow: none;\n",
              "  }\n",
              "\n",
              "  .colab-df-spinner {\n",
              "    border: 2px solid var(--fill-color);\n",
              "    border-color: transparent;\n",
              "    border-bottom-color: var(--fill-color);\n",
              "    animation:\n",
              "      spin 1s steps(1) infinite;\n",
              "  }\n",
              "\n",
              "  @keyframes spin {\n",
              "    0% {\n",
              "      border-color: transparent;\n",
              "      border-bottom-color: var(--fill-color);\n",
              "      border-left-color: var(--fill-color);\n",
              "    }\n",
              "    20% {\n",
              "      border-color: transparent;\n",
              "      border-left-color: var(--fill-color);\n",
              "      border-top-color: var(--fill-color);\n",
              "    }\n",
              "    30% {\n",
              "      border-color: transparent;\n",
              "      border-left-color: var(--fill-color);\n",
              "      border-top-color: var(--fill-color);\n",
              "      border-right-color: var(--fill-color);\n",
              "    }\n",
              "    40% {\n",
              "      border-color: transparent;\n",
              "      border-right-color: var(--fill-color);\n",
              "      border-top-color: var(--fill-color);\n",
              "    }\n",
              "    60% {\n",
              "      border-color: transparent;\n",
              "      border-right-color: var(--fill-color);\n",
              "    }\n",
              "    80% {\n",
              "      border-color: transparent;\n",
              "      border-right-color: var(--fill-color);\n",
              "      border-bottom-color: var(--fill-color);\n",
              "    }\n",
              "    90% {\n",
              "      border-color: transparent;\n",
              "      border-bottom-color: var(--fill-color);\n",
              "    }\n",
              "  }\n",
              "</style>\n",
              "\n",
              "      <script>\n",
              "        async function quickchart(key) {\n",
              "          const quickchartButtonEl =\n",
              "            document.querySelector('#' + key + ' button');\n",
              "          quickchartButtonEl.disabled = true;  // To prevent multiple clicks.\n",
              "          quickchartButtonEl.classList.add('colab-df-spinner');\n",
              "          try {\n",
              "            const charts = await google.colab.kernel.invokeFunction(\n",
              "                'suggestCharts', [key], {});\n",
              "          } catch (error) {\n",
              "            console.error('Error during call to suggestCharts:', error);\n",
              "          }\n",
              "          quickchartButtonEl.classList.remove('colab-df-spinner');\n",
              "          quickchartButtonEl.classList.add('colab-df-quickchart-complete');\n",
              "        }\n",
              "        (() => {\n",
              "          let quickchartButtonEl =\n",
              "            document.querySelector('#df-1e5a5620-0176-4db8-811f-648b33da29d6 button');\n",
              "          quickchartButtonEl.style.display =\n",
              "            google.colab.kernel.accessAllowed ? 'block' : 'none';\n",
              "        })();\n",
              "      </script>\n",
              "    </div>\n",
              "\n",
              "    </div>\n",
              "  </div>\n"
            ],
            "application/vnd.google.colaboratory.intrinsic+json": {
              "type": "dataframe",
              "variable_name": "df_demo",
              "summary": "{\n  \"name\": \"df_demo\",\n  \"rows\": 10000,\n  \"fields\": [\n    {\n      \"column\": \"Patient_ID\",\n      \"properties\": {\n        \"dtype\": \"string\",\n        \"num_unique_values\": 10000,\n        \"samples\": [\n          \"P006253\",\n          \"P004685\",\n          \"P001732\"\n        ],\n        \"semantic_type\": \"\",\n        \"description\": \"\"\n      }\n    },\n    {\n      \"column\": \"Age\",\n      \"properties\": {\n        \"dtype\": \"number\",\n        \"std\": 20,\n        \"min\": 18,\n        \"max\": 89,\n        \"num_unique_values\": 72,\n        \"samples\": [\n          38,\n          85,\n          59\n        ],\n        \"semantic_type\": \"\",\n        \"description\": \"\"\n      }\n    },\n    {\n      \"column\": \"Sex\",\n      \"properties\": {\n        \"dtype\": \"category\",\n        \"num_unique_values\": 2,\n        \"samples\": [\n          \"Female\",\n          \"Male\"\n        ],\n        \"semantic_type\": \"\",\n        \"description\": \"\"\n      }\n    },\n    {\n      \"column\": \"County\",\n      \"properties\": {\n        \"dtype\": \"category\",\n        \"num_unique_values\": 50,\n        \"samples\": [\n          \"Edwardmouth\",\n          \"New Lisa\"\n        ],\n        \"semantic_type\": \"\",\n        \"description\": \"\"\n      }\n    },\n    {\n      \"column\": \"Insurance_Type\",\n      \"properties\": {\n        \"dtype\": \"category\",\n        \"num_unique_values\": 4,\n        \"samples\": [\n          \"Private\",\n          \"Medicaid\"\n        ],\n        \"semantic_type\": \"\",\n        \"description\": \"\"\n      }\n    }\n  ]\n}"
            }
          },
          "metadata": {},
          "execution_count": 26
        }
      ]
    },
    {
      "cell_type": "markdown",
      "source": [
        "**Save to CSV's to begin analysis and manipulation**"
      ],
      "metadata": {
        "id": "d8U2_bJSLXAT"
      }
    },
    {
      "cell_type": "code",
      "source": [
        "df_demo.to_csv('patient_demographics.csv', index=False)\n",
        "df_diag.to_csv('clinical_diagnoses.csv', index=False)\n",
        "df_labs.to_csv('lab_results.csv', index=False)\n",
        "df_meds.to_csv('medications.csv', index=False)\n",
        "df_visits.to_csv('visits.csv', index=False)\n",
        "df_care.to_csv('care_management.csv', index=False)"
      ],
      "metadata": {
        "id": "dO9KtKXeLlkU"
      },
      "execution_count": 27,
      "outputs": []
    }
  ]
}
