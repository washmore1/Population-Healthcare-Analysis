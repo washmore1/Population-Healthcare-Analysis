{
  "nbformat": 4,
  "nbformat_minor": 0,
  "metadata": {
    "colab": {
      "provenance": [],
      "authorship_tag": "ABX9TyO1ZSOWaYdDEzH3OMPfEPeD",
      "include_colab_link": true
    },
    "kernelspec": {
      "name": "python3",
      "display_name": "Python 3"
    },
    "language_info": {
      "name": "python"
    }
  },
  "cells": [
    {
      "cell_type": "markdown",
      "metadata": {
        "id": "view-in-github",
        "colab_type": "text"
      },
      "source": [
        "<a href=\"https://colab.research.google.com/github/washmore1/Population-Healthcare-Analysis/blob/main/4_DashboardPrep.ipynb\" target=\"_parent\"><img src=\"https://colab.research.google.com/assets/colab-badge.svg\" alt=\"Open In Colab\"/></a>"
      ]
    },
    {
      "cell_type": "markdown",
      "source": [
        "##**Final Analysis and Data Prep for Tableau**"
      ],
      "metadata": {
        "id": "hJQ4V6XxsETZ"
      }
    },
    {
      "cell_type": "code",
      "source": [
        "# Setup Installation and Importation\n",
        "!pip install pandas numpy scikit-learn matplotlib seaborn\n",
        "\n",
        "import numpy as np\n",
        "import pandas as pd\n",
        "import matplotlib.pyplot as plt\n",
        "import seaborn as sns"
      ],
      "metadata": {
        "id": "wXQtoGFBsDAk"
      },
      "execution_count": 1,
      "outputs": []
    },
    {
      "cell_type": "code",
      "source": [
        "# Load the CSV files into Colab\n",
        "from google.colab import files\n",
        "uploaded = files.upload()"
      ],
      "metadata": {
        "id": "zLEqgJmusJsK"
      },
      "execution_count": null,
      "outputs": []
    },
    {
      "cell_type": "code",
      "source": [
        "# Read each csv file into it's own dataframe\n",
        "df_demo = pd.read_csv('patient_demographics.csv')\n",
        "df_diag = pd.read_csv('clinical_diagnoses.csv')\n",
        "df_labs = pd.read_csv('lab_results.csv')\n",
        "df_meds = pd.read_csv('medications.csv')\n",
        "df_visits = pd.read_csv('visits.csv')\n",
        "df_care = pd.read_csv('care_management.csv')\n",
        "df_risk = pd.read_csv('diabetes_risk.csv')"
      ],
      "metadata": {
        "id": "ioFzS5atsLVF"
      },
      "execution_count": 3,
      "outputs": []
    },
    {
      "cell_type": "markdown",
      "source": [
        "**Clean and Standardize Tables**"
      ],
      "metadata": {
        "id": "emIj0aOBtWHB"
      }
    },
    {
      "cell_type": "code",
      "source": [
        "# Ensure PK is a string type for all tables\n",
        "df_demo['Patient_ID'] = df_demo['Patient_ID'].astype(str)\n",
        "df_diag['Patient_ID'] = df_diag['Patient_ID'].astype(str)\n",
        "df_labs['Patient_ID'] = df_labs['Patient_ID'].astype(str)\n",
        "df_meds['Patient_ID'] = df_meds['Patient_ID'].astype(str)\n",
        "df_visits['Patient_ID'] = df_visits['Patient_ID'].astype(str)\n",
        "df_care['Patient_ID'] = df_care['Patient_ID'].astype(str)\n",
        "df_risk['Patient_ID'] = df_risk['Patient_ID'].astype(str)"
      ],
      "metadata": {
        "id": "iuIk8LQvtbqs"
      },
      "execution_count": 4,
      "outputs": []
    },
    {
      "cell_type": "code",
      "source": [
        "# convert all date columns to datetime data type\n",
        "date_columns = {\n",
        "    'df_diag': ['Diagnosis_Date'],\n",
        "    'df_labs': ['Lab_Date'],\n",
        "    'df_meds': ['Start_Date', 'End_Date'],\n",
        "    'df_visits': ['Visit_Date'],\n",
        "    'df_care': ['Start_Date'],\n",
        "}\n",
        "\n",
        "dataframes = {\n",
        "    'df_diag': df_diag,\n",
        "    'df_labs': df_labs,\n",
        "    'df_meds': df_meds,\n",
        "    'df_visits': df_visits,\n",
        "    'df_care': df_care,\n",
        "}\n",
        "\n",
        "for df_name, cols in date_columns.items():\n",
        "    df = dataframes[df_name]\n",
        "    for col in cols:\n",
        "        df[col] = pd.to_datetime(df[col])"
      ],
      "metadata": {
        "id": "kZY0BeWNtuEz"
      },
      "execution_count": 6,
      "outputs": []
    },
    {
      "cell_type": "markdown",
      "source": [
        "**Add Age Bins for Tableau Visuals**"
      ],
      "metadata": {
        "id": "niqIuNAtuJbH"
      }
    },
    {
      "cell_type": "code",
      "source": [
        "df_demo['Age_Band'] = pd.cut(df_demo['Age'],\n",
        "                             bins=[18, 30, 45, 60, 75, 90],\n",
        "                             labels=['18-30', '31-45', '46-60', '61-75', '76-90'],\n",
        "                             right=True)"
      ],
      "metadata": {
        "id": "jjZKH8gouN9w"
      },
      "execution_count": 7,
      "outputs": []
    },
    {
      "cell_type": "markdown",
      "source": [
        "**Summarize Lab Results**"
      ],
      "metadata": {
        "id": "UXHF_BlZuaWL"
      }
    },
    {
      "cell_type": "code",
      "source": [
        "# Pivot table for lab means and maxes per patient\n",
        "df_lab_summary = df_labs.pivot_table(index='Patient_ID',\n",
        "                                     columns='Lab_Type',\n",
        "                                     values='Lab_Value',\n",
        "                                     aggfunc=['mean', 'max']).reset_index()\n",
        "\n",
        "df_lab_summary.columns = ['Patient_ID',\n",
        "                          'Mean_Creatinine', 'Mean_HbA1c', 'Mean_LDL Cholesterol',\n",
        "                          'Max_Creatinine', 'Max_HbA1c', 'Max_LDL Cholesterol']\n",
        "\n",
        "# Rename columns to simpler names\n",
        "df_lab_summary.rename(columns={\n",
        "    'Mean_LDL Cholesterol': 'Mean_LDL',\n",
        "    'Max_LDL Cholesterol': 'Max_LDL'\n",
        "}, inplace=True)"
      ],
      "metadata": {
        "id": "DtMQRm0Duc3F"
      },
      "execution_count": 8,
      "outputs": []
    },
    {
      "cell_type": "markdown",
      "source": [
        "**Visit Tendencies Summary**"
      ],
      "metadata": {
        "id": "12ywojUDukro"
      }
    },
    {
      "cell_type": "code",
      "source": [
        "# Create visit type counts per patient\n",
        "df_visits_summary = df_visits.groupby(['Patient_ID', 'Visit_Type']).size().unstack(fill_value=0).reset_index()\n",
        "\n",
        "# Calculate total visits per patient\n",
        "df_visits_summary['Total_Visits'] = df_visits_summary.loc[:, df_visits_summary.columns != 'Patient_ID'].sum(axis=1)"
      ],
      "metadata": {
        "id": "AiP9CnVOuupG"
      },
      "execution_count": 9,
      "outputs": []
    },
    {
      "cell_type": "markdown",
      "source": [
        "**Care Management Summary**"
      ],
      "metadata": {
        "id": "o6FHgMJbu0rE"
      }
    },
    {
      "cell_type": "code",
      "source": [
        "# List care types per patient and flag if any care management exists\n",
        "df_care_summary = df_care.groupby('Patient_ID')['Care_Type'].agg(list).reset_index()\n",
        "df_care_summary['Has_Care_Management'] = True"
      ],
      "metadata": {
        "id": "K8CfMa3Cu5kn"
      },
      "execution_count": 10,
      "outputs": []
    },
    {
      "cell_type": "markdown",
      "source": [
        "**Merge into one, central dataframe for Tableau**"
      ],
      "metadata": {
        "id": "mCpIQSdDu-G9"
      }
    },
    {
      "cell_type": "code",
      "source": [
        "df_dashboard = df_demo.copy()\n",
        "df_dashboard = df_dashboard.merge(df_risk[['Patient_ID', 'Risk_Score', 'Risk_Category']], on='Patient_ID', how='left')\n",
        "df_dashboard = df_dashboard.merge(df_lab_summary, on='Patient_ID', how='left')\n",
        "df_dashboard = df_dashboard.merge(df_visits_summary, on='Patient_ID', how='left')\n",
        "df_dashboard = df_dashboard.merge(df_care_summary[['Patient_ID', 'Has_Care_Management']], on='Patient_ID', how='left')\n",
        "df_dashboard['Has_Care_Management'] = df_dashboard['Has_Care_Management'].fillna(False)"
      ],
      "metadata": {
        "colab": {
          "base_uri": "https://localhost:8080/"
        },
        "collapsed": true,
        "id": "zEDI7mcpvDIj",
        "outputId": "ded2e3b5-3937-494c-9b00-b5955e66fad2"
      },
      "execution_count": 12,
      "outputs": [
        {
          "output_type": "stream",
          "name": "stderr",
          "text": [
            "<ipython-input-12-d97ebd537712>:6: FutureWarning: Downcasting object dtype arrays on .fillna, .ffill, .bfill is deprecated and will change in a future version. Call result.infer_objects(copy=False) instead. To opt-in to the future behavior, set `pd.set_option('future.no_silent_downcasting', True)`\n",
            "  df_dashboard['Has_Care_Management'] = df_dashboard['Has_Care_Management'].fillna(False)\n"
          ]
        }
      ]
    },
    {
      "cell_type": "markdown",
      "source": [
        "**Care Gap Analysis**"
      ],
      "metadata": {
        "id": "UrSn0xQJwIz9"
      }
    },
    {
      "cell_type": "code",
      "source": [
        "# Criteria: High risk, no endocrinology visits, no care management\n",
        "df_dashboard['Care_Gap'] = (\n",
        "    (df_dashboard['Risk_Category'] == 'High') &\n",
        "    (df_dashboard.get('Endocrinology', 0) == 0) &\n",
        "    (~df_dashboard['Has_Care_Management'])\n",
        ")"
      ],
      "metadata": {
        "id": "rO2swjwZwRRU"
      },
      "execution_count": 15,
      "outputs": []
    },
    {
      "cell_type": "markdown",
      "source": [
        "**Export Data into CSV's, ready to load in to Tableau**"
      ],
      "metadata": {
        "id": "XVzyRSz9wsUX"
      }
    },
    {
      "cell_type": "code",
      "source": [
        "df_dashboard.to_csv('dashboard_data.csv', index=False)\n",
        "df_demo.to_csv('patient_demographics.csv', index=False)\n",
        "df_diag.to_csv('clinical_diagnoses.csv', index=False)\n",
        "df_labs.to_csv('lab_results.csv', index=False)\n",
        "df_meds.to_csv('medications.csv', index=False)\n",
        "df_visits.to_csv('visits.csv', index=False)\n",
        "df_care.to_csv('care_management.csv', index=False)\n",
        "df_risk.to_csv('diabetes_risk.csv', index=False)"
      ],
      "metadata": {
        "id": "JH8iH8vkwr74"
      },
      "execution_count": 16,
      "outputs": []
    },
    {
      "cell_type": "code",
      "source": [
        "from google.colab import drive\n",
        "drive.mount('drive')"
      ],
      "metadata": {
        "colab": {
          "base_uri": "https://localhost:8080/"
        },
        "id": "0GS41n2AxOos",
        "outputId": "5236a15d-3e17-4d87-8f29-937596d12ed2"
      },
      "execution_count": 17,
      "outputs": [
        {
          "output_type": "stream",
          "name": "stdout",
          "text": [
            "Mounted at drive\n"
          ]
        }
      ]
    },
    {
      "cell_type": "code",
      "source": [
        "!cp dashboard_data.csv \"/content/drive/My Drive/PythonHealthcareProject\"\n",
        "!cp patient_demographics.csv \"/content/drive/My Drive/PythonHealthcareProject\"\n",
        "!cp clinical_diagnoses.csv \"/content/drive/My Drive/PythonHealthcareProject\"\n",
        "!cp lab_results.csv \"/content/drive/My Drive/PythonHealthcareProject\"\n",
        "!cp medications.csv \"/content/drive/My Drive/PythonHealthcareProject\"\n",
        "!cp visits.csv \"/content/drive/My Drive/PythonHealthcareProject\"\n",
        "!cp care_management.csv \"/content/drive/My Drive/PythonHealthcareProject\"\n",
        "!cp diabetes_risk.csv \"/content/drive/My Drive/PythonHealthcareProject\""
      ],
      "metadata": {
        "id": "_SXqOa6jxY2E"
      },
      "execution_count": 18,
      "outputs": []
    }
  ]
}